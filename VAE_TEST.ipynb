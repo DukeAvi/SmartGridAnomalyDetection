{
 "cells": [
  {
   "cell_type": "code",
   "execution_count": 37,
   "id": "3a252311",
   "metadata": {},
   "outputs": [],
   "source": [
    "import torch\n",
    "import pandas as pd\n",
    "import numpy as np\n",
    "from sklearn.preprocessing import StandardScaler\n",
    "from torch.utils.data import DataLoader, TensorDataset\n",
    "import torch.nn as nn\n",
    "import torch.optim as optim\n",
    "import matplotlib.pyplot as plt\n",
    "import seaborn as sns\n",
    "\n",
    "sns.set(style=\"whitegrid\")"
   ]
  },
  {
   "cell_type": "code",
   "execution_count": 38,
   "id": "74ee60ea",
   "metadata": {},
   "outputs": [],
   "source": [
    "class VAE(nn.Module):\n",
    "    def __init__(self, input_dim, latent_dim):\n",
    "        super(VAE, self).__init__()\n",
    "        self.encoder = nn.Sequential(\n",
    "            nn.Linear(input_dim, 128),\n",
    "            nn.ReLU(),\n",
    "            nn.Linear(128, 64),\n",
    "            nn.ReLU()\n",
    "        )\n",
    "        self.fc_mu = nn.Linear(64, latent_dim)\n",
    "        self.fc_logvar = nn.Linear(64, latent_dim)\n",
    "        self.decoder = nn.Sequential(\n",
    "            nn.Linear(latent_dim, 64),\n",
    "            nn.ReLU(),\n",
    "            nn.Linear(64, 128),\n",
    "            nn.ReLU(),\n",
    "            nn.Linear(128, input_dim),\n",
    "            nn.Sigmoid()\n",
    "        )\n",
    "\n",
    "    def encode(self, x):\n",
    "        h = self.encoder(x)\n",
    "        return self.fc_mu(h), self.fc_logvar(h)\n",
    "\n",
    "    def reparameterize(self, mu, logvar):\n",
    "        std = torch.exp(0.5 * logvar)\n",
    "        eps = torch.randn_like(std)\n",
    "        return mu + eps * std\n",
    "\n",
    "    def decode(self, z):\n",
    "        return self.decoder(z)\n",
    "\n",
    "    def forward(self, x):\n",
    "        mu, logvar = self.encode(x)\n",
    "        z = self.reparameterize(mu, logvar)\n",
    "        return self.decode(z), mu, logvar"
   ]
  },
  {
   "cell_type": "code",
   "execution_count": 39,
   "id": "4eee5fb3",
   "metadata": {},
   "outputs": [],
   "source": [
    "def preprocess_data(dataset_path, ignore_columns=None):\n",
    "    df = pd.read_csv(dataset_path)\n",
    "\n",
    "    full_df = df.copy()\n",
    "\n",
    "    if 'source' in df.columns:\n",
    "        features = df.drop(columns=['source'])\n",
    "    else:\n",
    "        features = df.copy()\n",
    "\n",
    "    if ignore_columns is None:\n",
    "        ignore_columns = [col for col in features.columns if col[:2] == 'F' and len(col) == 3 and col[2] in ['L', 'M']]\n",
    "\n",
    "    features = features.drop(columns=ignore_columns)\n",
    "\n",
    "    scaler = StandardScaler()\n",
    "    scaled_features = scaler.fit_transform(features)\n",
    "\n",
    "    return pd.DataFrame(scaled_features, columns=features.columns), full_df  \n"
   ]
  },
  {
   "cell_type": "code",
   "execution_count": 40,
   "id": "c3129225",
   "metadata": {},
   "outputs": [],
   "source": [
    "def create_dataloader(features, batch_size=64):\n",
    "    tensor_data = torch.tensor(features.values, dtype=torch.float32)\n",
    "    dataset = TensorDataset(tensor_data, tensor_data)\n",
    "    return DataLoader(dataset, batch_size=batch_size, shuffle=True)"
   ]
  },
  {
   "cell_type": "code",
   "execution_count": 41,
   "id": "0e7775ef",
   "metadata": {},
   "outputs": [],
   "source": [
    "def detect_anomalies(model, dataloader, threshold_percentile=95):\n",
    "    model.eval()\n",
    "    anomaly_scores = []\n",
    "    latent_vectors = []\n",
    "    with torch.no_grad():\n",
    "        for batch, _ in dataloader:\n",
    "            recon_batch, mu, logvar = model(batch)\n",
    "            recon_error = torch.mean((recon_batch - batch) ** 2, dim=1)\n",
    "            anomaly_scores.extend(recon_error.numpy())\n",
    "            latent_vectors.append(mu.numpy())\n",
    "    anomaly_scores = np.array(anomaly_scores)\n",
    "    latent_vectors = np.vstack(latent_vectors)\n",
    "    threshold = np.percentile(anomaly_scores, threshold_percentile)\n",
    "    anomaly_labels = (anomaly_scores > threshold).astype(int)\n",
    "    print(f\"Anomaly threshold (percentile {threshold_percentile}): {threshold:.6f}\")\n",
    "    return anomaly_scores, latent_vectors, anomaly_labels, threshold"
   ]
  },
  {
   "cell_type": "code",
   "execution_count": null,
   "id": "4b3edfb4",
   "metadata": {},
   "outputs": [],
   "source": [
    "def save_results(features, anomaly_scores, latent_vectors, anomaly_labels, output_file='vae_anomaly_test_results.csv'):\n",
    "    results = features.copy()\n",
    "    results['Anomaly'] = anomaly_labels\n",
    "    results['Reconstruction_Error'] = anomaly_scores\n",
    "    latent_df = pd.DataFrame(latent_vectors, columns=[f'Latent_{i+1}' for i in range(latent_vectors.shape[1])])\n",
    "    final_df = pd.concat([results, latent_df], axis=1)\n",
    "    final_df.to_csv(output_file, index=False)\n",
    "    print(f\"Results saved to {output_file}\")"
   ]
  },
  {
   "cell_type": "code",
   "execution_count": null,
   "id": "0592394a",
   "metadata": {},
   "outputs": [],
   "source": [
    "def plot_anomaly_visualizations(anomaly_scores, latent_vectors, anomaly_labels, threshold, output_prefix=\"vae_anomaly_plot\"):\n",
    "    plt.figure(figsize=(14, 5))\n",
    "\n",
    "    # 1. Histogram of reconstruction errors\n",
    "    plt.subplot(1, 2, 1)\n",
    "    sns.histplot(anomaly_scores, bins=50, kde=True, color='skyblue')\n",
    "    plt.axvline(threshold, color='red', linestyle='--', label=f'Threshold = {threshold:.4f}')\n",
    "    plt.title(\"Histogram of Reconstruction Errors\")\n",
    "    plt.xlabel(\"Reconstruction Error\")\n",
    "    plt.ylabel(\"Frequency\")\n",
    "    plt.legend()\n",
    "\n",
    "    # 2. Latent space scatter plot\n",
    "    plt.subplot(1, 2, 2)\n",
    "    latent_df = pd.DataFrame(latent_vectors, columns=[\"Latent_1\", \"Latent_2\"])\n",
    "    latent_df[\"Anomaly\"] = anomaly_labels\n",
    "    sns.scatterplot(data=latent_df, x=\"Latent_1\", y=\"Latent_2\", hue=\"Anomaly\", palette=[\"green\", \"red\"])\n",
    "    plt.title(\"Latent Space Visualization\")\n",
    "    plt.xlabel(\"Latent Dimension 1\")\n",
    "    plt.ylabel(\"Latent Dimension 2\")\n",
    "\n",
    "    plt.tight_layout()\n",
    "\n",
    "    # Save plot\n",
    "    plot_filename = f\"{output_prefix}_visualizations.png\"\n",
    "    plt.savefig(plot_filename)\n",
    "    print(f\"Visualizations saved to {plot_filename}\")\n",
    "    plt.close()\n"
   ]
  },
  {
   "cell_type": "code",
   "execution_count": null,
   "id": "3cf1ce24",
   "metadata": {},
   "outputs": [],
   "source": [
    "def main():\n",
    "    test_path = 'train.csv'  \n",
    "    features, full_df = preprocess_data(test_path)\n",
    "\n",
    "    latent_dim = 2  \n",
    "\n",
    "    input_dim = features.shape[1]\n",
    "\n",
    "    vae = VAE(input_dim, latent_dim)\n",
    "    vae.load_state_dict(torch.load('best_vae_model.pt'))\n",
    "\n",
    "    dataloader = create_dataloader(features)\n",
    "    anomaly_scores, latent_vectors, anomaly_labels, threshold = detect_anomalies(vae, dataloader)\n",
    "\n",
    "    save_results(full_df, anomaly_scores, latent_vectors, anomaly_labels)\n",
    "    plot_anomaly_visualizations(anomaly_scores, latent_vectors, anomaly_labels, threshold, output_prefix=\"vae_anomaly_test\")\n"
   ]
  },
  {
   "cell_type": "code",
   "execution_count": 45,
   "id": "d4967b01",
   "metadata": {},
   "outputs": [
    {
     "name": "stdout",
     "output_type": "stream",
     "text": [
      "Anomaly threshold (percentile 95): 1.917189\n",
      "Results saved to vae_anomaly_test_results_1.csv\n",
      "Visualizations saved to vae_anomaly_test_1_visualizations.png\n"
     ]
    }
   ],
   "source": [
    "if __name__ == \"__main__\":\n",
    "    main()"
   ]
  }
 ],
 "metadata": {
  "kernelspec": {
   "display_name": "base",
   "language": "python",
   "name": "python3"
  },
  "language_info": {
   "codemirror_mode": {
    "name": "ipython",
    "version": 3
   },
   "file_extension": ".py",
   "mimetype": "text/x-python",
   "name": "python",
   "nbconvert_exporter": "python",
   "pygments_lexer": "ipython3",
   "version": "3.12.7"
  }
 },
 "nbformat": 4,
 "nbformat_minor": 5
}
