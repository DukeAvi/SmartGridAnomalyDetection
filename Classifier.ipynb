{
 "cells": [
  {
   "cell_type": "code",
   "execution_count": 1,
   "id": "da534e4e",
   "metadata": {},
   "outputs": [],
   "source": [
    "import pandas as pd\n",
    "import xgboost as xgb\n",
    "from sklearn.preprocessing import LabelEncoder\n",
    "from sklearn.metrics import classification_report"
   ]
  },
  {
   "cell_type": "code",
   "execution_count": 2,
   "id": "e516cff8",
   "metadata": {},
   "outputs": [
    {
     "name": "stdout",
     "output_type": "stream",
     "text": [
      "Filtered anomalies saved to: test1_anomalies.csv\n"
     ]
    }
   ],
   "source": [
    "\n",
    "def filter_anomalies_only(input_path='vae_anomaly_test_results_1.csv', output_path='test1_anomalies.csv'):\n",
    "    df = pd.read_csv(input_path)\n",
    "    anomalies = df[df['Anomaly'] == 1]\n",
    "    anomalies.to_csv(output_path, index=False)\n",
    "    print(f\"Filtered anomalies saved to: {output_path}\")\n",
    "\n",
    "filter_anomalies_only()\n"
   ]
  },
  {
   "cell_type": "code",
   "execution_count": null,
   "id": "7de1f5c0",
   "metadata": {},
   "outputs": [],
   "source": [
    "def load_and_prepare_data(train_path, test_path):\n",
    "    train_df = pd.read_csv(train_path)\n",
    "    train_anomalies = train_df[train_df['Anomaly'] == 1].copy()\n",
    "\n",
    "    test_anomalies = pd.read_csv(test_path)\n",
    "\n",
    "    X_train = train_anomalies[['Latent_1', 'Latent_2']]\n",
    "    y_train = train_anomalies['source']\n",
    "\n",
    "    label_encoder = LabelEncoder()\n",
    "    y_train_encoded = label_encoder.fit_transform(y_train)\n",
    "\n",
    "    X_test = test_anomalies[['Latent_1', 'Latent_2']]\n",
    "\n",
    "    return X_train, y_train_encoded, X_test, test_anomalies, label_encoder"
   ]
  },
  {
   "cell_type": "code",
   "execution_count": 4,
   "id": "1c4da8b2",
   "metadata": {},
   "outputs": [],
   "source": [
    "def train_classifier(X_train, y_train):\n",
    "    model = xgb.XGBClassifier(use_label_encoder=False, eval_metric='mlogloss')\n",
    "    model.fit(X_train, y_train)\n",
    "    return model"
   ]
  },
  {
   "cell_type": "code",
   "execution_count": 5,
   "id": "707ea667",
   "metadata": {},
   "outputs": [],
   "source": [
    "def predict_and_save(model, X_test, test_df, label_encoder, output_path='anomalous_predictions_with_source.csv'):\n",
    "    y_pred_encoded = model.predict(X_test)\n",
    "    predicted_sources = label_encoder.inverse_transform(y_pred_encoded)\n",
    "    test_df['Predicted_Source'] = predicted_sources\n",
    "    test_df.to_csv(output_path, index=False)\n",
    "    print(f\"Predictions saved to {output_path}\")"
   ]
  },
  {
   "cell_type": "code",
   "execution_count": 6,
   "id": "2d88ee50",
   "metadata": {},
   "outputs": [],
   "source": [
    "def main():\n",
    "    train_path = 'vae_anomaly_test_results.csv'\n",
    "    test_path = 'test1_anomalies.csv'  # Filtered anomalies\n",
    "\n",
    "    X_train, y_train, X_test, test_anomalies_df, label_encoder = load_and_prepare_data(train_path, test_path)\n",
    "    model = train_classifier(X_train, y_train)\n",
    "    predict_and_save(model, X_test, test_anomalies_df, label_encoder)\n"
   ]
  },
  {
   "cell_type": "code",
   "execution_count": 7,
   "id": "ac78c86c",
   "metadata": {},
   "outputs": [
    {
     "name": "stderr",
     "output_type": "stream",
     "text": [
      "c:\\Users\\psaan\\anaconda3\\Lib\\site-packages\\xgboost\\training.py:183: UserWarning: [21:03:39] WARNING: C:\\actions-runner\\_work\\xgboost\\xgboost\\src\\learner.cc:738: \n",
      "Parameters: { \"use_label_encoder\" } are not used.\n",
      "\n",
      "  bst.update(dtrain, iteration=i, fobj=obj)\n"
     ]
    },
    {
     "name": "stdout",
     "output_type": "stream",
     "text": [
      "Predictions saved to anomalous_predictions_with_source.csv\n"
     ]
    }
   ],
   "source": [
    "if __name__ == \"__main__\":\n",
    "    main()"
   ]
  }
 ],
 "metadata": {
  "kernelspec": {
   "display_name": "base",
   "language": "python",
   "name": "python3"
  },
  "language_info": {
   "codemirror_mode": {
    "name": "ipython",
    "version": 3
   },
   "file_extension": ".py",
   "mimetype": "text/x-python",
   "name": "python",
   "nbconvert_exporter": "python",
   "pygments_lexer": "ipython3",
   "version": "3.12.7"
  }
 },
 "nbformat": 4,
 "nbformat_minor": 5
}
