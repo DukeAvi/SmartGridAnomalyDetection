{
 "cells": [
  {
   "cell_type": "code",
   "execution_count": 15,
   "id": "34a8b865",
   "metadata": {},
   "outputs": [],
   "source": [
    "import torch\n",
    "import torch.nn as nn\n",
    "import torch.optim as optim\n",
    "import pandas as pd\n",
    "import numpy as np\n",
    "from sklearn.preprocessing import StandardScaler\n",
    "from torch.utils.data import DataLoader, TensorDataset"
   ]
  },
  {
   "cell_type": "code",
   "execution_count": 16,
   "id": "2242edc5",
   "metadata": {},
   "outputs": [],
   "source": [
    "class VAE(nn.Module):\n",
    "    def __init__(self, input_dim, latent_dim):\n",
    "        super(VAE, self).__init__()\n",
    "        self.encoder = nn.Sequential(\n",
    "            nn.Linear(input_dim, 128),\n",
    "            nn.ReLU(),\n",
    "            nn.Linear(128, 64),\n",
    "            nn.ReLU()\n",
    "        )\n",
    "        self.fc_mu = nn.Linear(64, latent_dim)\n",
    "        self.fc_logvar = nn.Linear(64, latent_dim)\n",
    "        self.decoder = nn.Sequential(\n",
    "            nn.Linear(latent_dim, 64),\n",
    "            nn.ReLU(),\n",
    "            nn.Linear(64, 128),\n",
    "            nn.ReLU(),\n",
    "            nn.Linear(128, input_dim),\n",
    "            nn.Sigmoid()\n",
    "        )\n",
    "\n",
    "    def encode(self, x):\n",
    "        h = self.encoder(x)\n",
    "        return self.fc_mu(h), self.fc_logvar(h)\n",
    "\n",
    "    def reparameterize(self, mu, logvar):\n",
    "        std = torch.exp(0.5 * logvar)\n",
    "        eps = torch.randn_like(std)\n",
    "        return mu + eps * std\n",
    "\n",
    "    def decode(self, z):\n",
    "        return self.decoder(z)\n",
    "\n",
    "    def forward(self, x):\n",
    "        mu, logvar = self.encode(x)\n",
    "        z = self.reparameterize(mu, logvar)\n",
    "        return self.decode(z), mu, logvar"
   ]
  },
  {
   "cell_type": "code",
   "execution_count": 17,
   "id": "ba8675a0",
   "metadata": {},
   "outputs": [],
   "source": [
    "def loss_function(recon_x, x, mu, logvar, beta=1.0):\n",
    "    recon_loss = nn.MSELoss(reduction='sum')(recon_x, x)\n",
    "    kl_div = -0.5 * torch.sum(1 + logvar - mu.pow(2) - logvar.exp())\n",
    "    return recon_loss + beta * kl_div"
   ]
  },
  {
   "cell_type": "code",
   "execution_count": 18,
   "id": "4d5ab573",
   "metadata": {},
   "outputs": [],
   "source": [
    "import pandas as pd\n",
    "from sklearn.preprocessing import StandardScaler\n",
    "\n",
    "def preprocess_data(dataset_path, drop_columns=None):\n",
    "    df = pd.read_csv(dataset_path)\n",
    "\n",
    "    if drop_columns is not None:\n",
    "        if not isinstance(drop_columns, (list, pd.Index)):\n",
    "            raise TypeError(\"drop_columns must be a list or pandas.Index\")\n",
    "        features = df.drop(columns=drop_columns)\n",
    "    else:\n",
    "        features = df.copy()\n",
    "\n",
    "    scaler = StandardScaler()\n",
    "    scaled_features = scaler.fit_transform(features)\n",
    "\n",
    "    return pd.DataFrame(scaled_features, columns=features.columns), df"
   ]
  },
  {
   "cell_type": "code",
   "execution_count": 19,
   "id": "42fc134e",
   "metadata": {},
   "outputs": [],
   "source": [
    "def create_dataloader(features, batch_size=64):\n",
    "    tensor_data = torch.tensor(features.values, dtype=torch.float32)\n",
    "    dataset = TensorDataset(tensor_data, tensor_data)\n",
    "    return DataLoader(dataset, batch_size=batch_size, shuffle=True)"
   ]
  },
  {
   "cell_type": "code",
   "execution_count": 20,
   "id": "b8bcf6f0",
   "metadata": {},
   "outputs": [],
   "source": [
    "def train_vae(model, dataloader, epochs=20, lr=1e-3, checkpoint_path='best_vae_model.pt'):\n",
    "    optimizer = optim.Adam(model.parameters(), lr=lr)\n",
    "    best_loss = float('inf')\n",
    "    for epoch in range(epochs):\n",
    "        model.train()\n",
    "        total_loss = 0\n",
    "        for batch, _ in dataloader:\n",
    "            optimizer.zero_grad()\n",
    "            recon_batch, mu, logvar = model(batch)\n",
    "            loss = loss_function(recon_batch, batch, mu, logvar)\n",
    "            loss.backward()\n",
    "            optimizer.step()\n",
    "            total_loss += loss.item()\n",
    "        avg_loss = total_loss / len(dataloader.dataset)\n",
    "        print(f\"Epoch {epoch+1}/{epochs}, Loss: {avg_loss:.4f}\")\n",
    "        if avg_loss < best_loss:\n",
    "            best_loss = avg_loss\n",
    "            torch.save(model.state_dict(), checkpoint_path)\n",
    "            print(\"Best model saved.\")"
   ]
  },
  {
   "cell_type": "code",
   "execution_count": 21,
   "id": "be94883f",
   "metadata": {},
   "outputs": [
    {
     "name": "stdout",
     "output_type": "stream",
     "text": [
      "Epoch 1/30, Loss: 7.0075\n",
      "Best model saved.\n",
      "Epoch 2/30, Loss: 7.0000\n",
      "Best model saved.\n",
      "Epoch 3/30, Loss: 7.0000\n",
      "Epoch 4/30, Loss: 7.0000\n",
      "Epoch 5/30, Loss: 7.0000\n",
      "Epoch 6/30, Loss: 7.0000\n",
      "Epoch 7/30, Loss: 7.0000\n",
      "Epoch 8/30, Loss: 7.0000\n",
      "Epoch 9/30, Loss: 7.0000\n",
      "Epoch 10/30, Loss: 7.0000\n",
      "Epoch 11/30, Loss: 7.0000\n",
      "Epoch 12/30, Loss: 7.0000\n",
      "Epoch 13/30, Loss: 7.0000\n",
      "Epoch 14/30, Loss: 7.0000\n",
      "Epoch 15/30, Loss: 7.0000\n",
      "Epoch 16/30, Loss: 7.0000\n",
      "Epoch 17/30, Loss: 7.0000\n",
      "Epoch 18/30, Loss: 7.0000\n",
      "Epoch 19/30, Loss: 7.0000\n",
      "Epoch 20/30, Loss: 7.0000\n",
      "Epoch 21/30, Loss: 7.0000\n",
      "Epoch 22/30, Loss: 7.0000\n",
      "Epoch 23/30, Loss: 7.0000\n",
      "Epoch 24/30, Loss: 7.0000\n",
      "Epoch 25/30, Loss: 7.0000\n",
      "Epoch 26/30, Loss: 7.0000\n",
      "Epoch 27/30, Loss: 7.0000\n",
      "Epoch 28/30, Loss: 7.0000\n",
      "Epoch 29/30, Loss: 7.0000\n",
      "Epoch 30/30, Loss: 7.0000\n"
     ]
    }
   ],
   "source": [
    "def main():\n",
    "    dataset_path = 'vae_train.csv'\n",
    "    features, labels = preprocess_data(dataset_path)\n",
    "    dataloader = create_dataloader(features)\n",
    "    input_dim = features.shape[1]\n",
    "    latent_dim = 2\n",
    "    vae = VAE(input_dim, latent_dim)\n",
    "    train_vae(vae, dataloader, epochs=30, checkpoint_path='best_vae_model.pt')\n",
    "if __name__ == \"__main__\":\n",
    "    main()"
   ]
  }
 ],
 "metadata": {
  "kernelspec": {
   "display_name": "base",
   "language": "python",
   "name": "python3"
  },
  "language_info": {
   "codemirror_mode": {
    "name": "ipython",
    "version": 3
   },
   "file_extension": ".py",
   "mimetype": "text/x-python",
   "name": "python",
   "nbconvert_exporter": "python",
   "pygments_lexer": "ipython3",
   "version": "3.12.7"
  }
 },
 "nbformat": 4,
 "nbformat_minor": 5
}
